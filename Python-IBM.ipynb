{
  "cells": [
    {
      "cell_type": "markdown",
      "metadata": {
        "id": "yVFAEPURuKS2"
      },
      "source": [
        "<a href=\"https://colab.research.google.com/github/PosgradoMNA/actividades-de-aprendizaje-greyngs/blob/main/Python-IBM.ipynb\" target=\"_parent\"><img src=\"https://colab.research.google.com/assets/colab-badge.svg\" alt=\"Open In Colab\"/></a>"
      ]
    },
    {
      "cell_type": "markdown",
      "metadata": {
        "id": "DcD6ucq6uKS8"
      },
      "source": [
        "# Python - IBM"
      ]
    },
    {
      "cell_type": "markdown",
      "metadata": {
        "id": "KKxM-3p7uKS9"
      },
      "source": [
        "## Variables"
      ]
    },
    {
      "cell_type": "code",
      "execution_count": null,
      "metadata": {
        "id": "dCQWlke2uKS9"
      },
      "outputs": [],
      "source": [
        "x = 5\n",
        "x = \"Jorge\"\n",
        "\n",
        "# Casting\n",
        "x = str(3)\n",
        "x = int(2.5)\n",
        "y = float(3)\n",
        "\n",
        "# Type\n",
        "print(type(x))"
      ]
    },
    {
      "cell_type": "markdown",
      "metadata": {
        "id": "BAMOkA-EuKS_"
      },
      "source": [
        "## Data types"
      ]
    },
    {
      "cell_type": "code",
      "execution_count": null,
      "metadata": {
        "id": "9WwSDkppuKTA"
      },
      "outputs": [],
      "source": [
        "# Text: str\n",
        "x = \"Hello world\"\n",
        "\n",
        "# Numeric Types: int, float, complex\n",
        "x = 20\n",
        "x = 2.0\n",
        "x = 1j\n",
        "\n",
        "# Sequence Types: list, tuple, range\n",
        "x = [\"apple\", \"banana\", \"cherry\"]\n",
        "x = (\"apple\", \"banana\", \"cherry\")\n",
        "x = range(6)\n",
        "\n",
        "# Mapping types: dict\n",
        "x = {\"name\": \"Jorge\", \"age\": 25}\n",
        "\n",
        "# Set types: set, frozenset\n",
        "x = {\"apple\", \"banana\", \"cherry\"}\n",
        "x = frozenset({\"apple\", \"banana\", \"cherry\"})\n",
        "\n",
        "# Boolean type: bool\n",
        "x = True\n",
        "\n",
        "# Binary Types: bytes, bytearray, memoryview\n",
        "x = b\"Hello\"\n",
        "x = bytearray(5)\n",
        "x = memoryview(bytes(5))\n",
        "\n",
        "# None Type: NoneType\n",
        "x = None"
      ]
    },
    {
      "cell_type": "markdown",
      "metadata": {
        "id": "oLDGNhbvuKTB"
      },
      "source": [
        "## Strings"
      ]
    },
    {
      "cell_type": "code",
      "execution_count": null,
      "metadata": {
        "id": "WKIwKVmyuKTC"
      },
      "outputs": [],
      "source": [
        "a = \"Hello world!\"\n",
        "\n",
        "# Slicing\n",
        "print(a[0])\n",
        "print(a[0:5])\n",
        "print(a[::2])\n",
        "\n",
        "#Length\n",
        "len(a)\n",
        "\n",
        "# Check\n",
        "print(\"free\" in a)\n",
        "\n",
        "# Modify\n",
        "a.upper()\n",
        "a.lower()\n",
        "a.strip() # Remove whitespace\n",
        "a.replace(\"H\", \"J\")\n",
        "a.split(\",\") # Return ['Hello', ' world!']\n",
        "\n",
        "# combine strings and numbers \n",
        "b = \"Im George and Im {}\"\n",
        "b.format(25)\n",
        "\n",
        "# Escape characters\n",
        "#\\'\n",
        "#\\\\\n",
        "#\\n New line\n",
        "#\\r Carriage return\n",
        "#\\t tab\n",
        "#\\b Backspace\n",
        "#\\f Form feed\n",
        "#\\ooo Octal value\n",
        "#\\xhh Hex value\n",
        "\n",
        "# More string methods: https://www.w3schools.com/python/python_strings_methods.asp"
      ]
    },
    {
      "cell_type": "markdown",
      "metadata": {
        "id": "qxvjsTc3uKTD"
      },
      "source": [
        "## Python operators"
      ]
    },
    {
      "cell_type": "code",
      "execution_count": null,
      "metadata": {
        "id": "i4F9qJCUuKTE"
      },
      "outputs": [],
      "source": [
        "# + - * /\n",
        "# % modulus\n",
        "# ** Exponentiation\n",
        "# // Floor division\n",
        "\n",
        "# Assignment operators\n",
        "# = += -= *= /= %= //= **= &= |= ^= >>= <<=\n",
        "\n",
        "# Comparison operators\n",
        "# == != > < >= <=\n",
        "\n",
        "# Logical operators\n",
        "# and or not\n",
        "\n",
        "# Identity operators\n",
        "# is, is not\n",
        "\n",
        "# Membership operators\n",
        "# in, not in\n",
        "\n",
        "# Bitwise operators\n",
        "# & and\n",
        "# | or\n",
        "# ^ xor\n",
        "# ~ not\n",
        "# << zero fill left shift\n",
        "# >> Signed right shift"
      ]
    },
    {
      "cell_type": "markdown",
      "metadata": {
        "id": "fQe1FJoZuKTE"
      },
      "source": [
        "## Python list"
      ]
    },
    {
      "cell_type": "code",
      "execution_count": null,
      "metadata": {
        "id": "t4r_9qNYuKTF"
      },
      "outputs": [],
      "source": [
        "thislist = [\"apple\", \"banana\", \"cherry\", \"orange\", \"kiwi\", \"melon\", \"mango\"]\n",
        "thislist = list((\"apple\", \"banana\", \"cherry\", \"orange\", \"kiwi\", \"melon\", \"mango\"))\n",
        "list1 = [\"abc\", 34, True, 40, \"male\"]\n",
        "len(thislist)\n",
        "type(list1)\n",
        "\n",
        "thislist[0] # First element\n",
        "thislist[-1] # Last element\n",
        "thislist[2:5] # Access by range\n",
        "\n",
        "# Change item\n",
        "thislist[1] = \"blackcurrant\"\n",
        "\n",
        "# Insert\n",
        "thislist.insert(2, \"watermelon\")\n",
        "\n",
        "# Append\n",
        "thislist.append(\"blueberry\")\n",
        "\n",
        "# Extend\n",
        "tropical = [\"mango\", \"pineapple\", \"papaya\"]\n",
        "thislist.extend(tropical)\n",
        "\n",
        "# Remove\n",
        "thislist.remove(\"blueberry\")\n",
        "thislist.pop(2)\n",
        "del thislist[0] # Remove the first element\n",
        "\n",
        "# Clear\n",
        "thislist.clear()\n",
        "\n",
        "# Loop\n",
        "for x in thislist:\n",
        "  print(x)\n",
        "\n",
        "for i in range(len(thislist)):\n",
        "  print(thislist[i])\n",
        "\n",
        "i = 0\n",
        "while i < len(thislist):\n",
        "  print(thislist[i])\n",
        "  i = i + 1\n",
        "\n",
        "[print(x) for x in thislist]\n",
        "\n",
        "# Sort\n",
        "thislist.sort()\n",
        "thislist.sort(reverse = True)\n",
        "thislist.reverse()\n",
        "\n",
        "# Copy\n",
        "mylist = thislist.copy()\n",
        "mylist = list(thislist)\n",
        "\n",
        "# More list methods: https://www.w3schools.com/python/python_lists_methods.asp"
      ]
    },
    {
      "cell_type": "markdown",
      "source": [
        "## Tuples"
      ],
      "metadata": {
        "id": "hi8lKfE2uMl5"
      }
    },
    {
      "cell_type": "code",
      "source": [
        "# is like a list but is not mutable\n",
        "# we have the same list methods and access\n",
        "\n",
        "# We can change the tuple casting like list and change the item and them return to casting to tuple\n",
        "x = (\"apple\", \"banana\", \"cherry\")\n",
        "y = list(x)\n",
        "y[1] = \"kiwi\"\n",
        "x = tuple(y)\n"
      ],
      "metadata": {
        "id": "YZ74tIG-uQHL"
      },
      "execution_count": null,
      "outputs": []
    },
    {
      "cell_type": "markdown",
      "source": [
        "## Sets"
      ],
      "metadata": {
        "id": "wtnTpdnlyEsF"
      }
    },
    {
      "cell_type": "code",
      "source": [
        "set1 = {\"apple\", \"pear\", \"blueberry\"}\n",
        "set2 = {\"pineapple\", \"pear\", \"banana\"}\n",
        "set3 = set1 & set2 # intersection\n",
        "\n",
        "set1.union(set2) # union\n",
        "\n",
        "set1 = {\"apple\", \"pear\", \"blueberry\"}\n",
        "set2 = {\"apple\", \"pear\"}\n",
        "set2.issubset(set1) # check if set2 is a subset of set1"
      ],
      "metadata": {
        "id": "OpPjgDOHyH4z",
        "outputId": "1c875e9c-6fd7-4c4e-e3f3-506df397295f",
        "colab": {
          "base_uri": "https://localhost:8080/"
        }
      },
      "execution_count": 1,
      "outputs": [
        {
          "output_type": "execute_result",
          "data": {
            "text/plain": [
              "{'pear'}"
            ]
          },
          "metadata": {},
          "execution_count": 1
        }
      ]
    },
    {
      "cell_type": "markdown",
      "source": [
        "## Dict"
      ],
      "metadata": {
        "id": "QPwVedD22Miq"
      }
    },
    {
      "cell_type": "code",
      "source": [
        "thisdict = {\n",
        "  \"brand\": \"Ford\",\n",
        "  \"electric\": False,\n",
        "  \"year\": 1964,\n",
        "  \"colors\": [\"red\", \"white\", \"blue\"]\n",
        "}\n",
        "\n",
        "# The methods are like list but the access is with the key\n",
        "thisdict[\"brand\"]\n",
        "\n",
        "thisdict.keys()\n",
        "thisdict.items()\n",
        "\n",
        "# More dict methods: https://www.w3schools.com/python/python_dictionaries_methods.asp"
      ],
      "metadata": {
        "id": "MB88LTJjzeRs"
      },
      "execution_count": null,
      "outputs": []
    },
    {
      "cell_type": "markdown",
      "source": [
        "## Loops"
      ],
      "metadata": {
        "id": "_CbNL4Oo246R"
      }
    },
    {
      "cell_type": "code",
      "source": [
        "# Examples\n",
        "\n",
        "fruits = [\"apple\", \"banana\", \"cherry\"]\n",
        "for x in fruits:\n",
        "  print(x)\n",
        "\n",
        "# statements\n",
        "# break, continue\n",
        "\n",
        "for x in range(6):\n",
        "  print(x)\n",
        "\n",
        "for x in range(2, 6):\n",
        "  print(x)\n",
        "\n",
        "# While\n",
        "\n",
        "i = 1\n",
        "while i < 6:\n",
        "  print(i)\n",
        "  i += 1"
      ],
      "metadata": {
        "id": "9-sFv_Zu5SSi",
        "outputId": "2d6e8660-62e6-4e02-ac53-12e7e76f14d2",
        "colab": {
          "base_uri": "https://localhost:8080/"
        }
      },
      "execution_count": 2,
      "outputs": [
        {
          "output_type": "stream",
          "name": "stdout",
          "text": [
            "apple\n",
            "banana\n",
            "cherry\n",
            "0\n",
            "1\n",
            "2\n",
            "3\n",
            "4\n",
            "5\n",
            "2\n",
            "3\n",
            "4\n",
            "5\n",
            "1\n",
            "2\n",
            "3\n",
            "4\n",
            "5\n"
          ]
        }
      ]
    },
    {
      "cell_type": "markdown",
      "source": [
        "## Functions"
      ],
      "metadata": {
        "id": "1TNNBE3_B0Zi"
      }
    },
    {
      "cell_type": "code",
      "source": [
        "def my_function(name):\n",
        "  print(\"Hello \" + name )\n",
        "\n",
        "my_function(\"jorge\")\n",
        "\n",
        "# When you need to use an unknown number of arguments use my_function(*arg) as a single argument like \n",
        "# and **arg like my_function(fname = \"Tobias\", lname = \"Refsnes\") arg[\"lname\"]"
      ],
      "metadata": {
        "id": "NTkzL4cwB3kq",
        "outputId": "accd90c2-8bd9-4f85-b850-980c0d0684f0",
        "colab": {
          "base_uri": "https://localhost:8080/"
        }
      },
      "execution_count": 15,
      "outputs": [
        {
          "output_type": "stream",
          "name": "stdout",
          "text": [
            "Hello jorge\n"
          ]
        }
      ]
    },
    {
      "cell_type": "markdown",
      "source": [
        "## Classes and objects"
      ],
      "metadata": {
        "id": "_rvNMS0SB3H-"
      }
    },
    {
      "cell_type": "code",
      "source": [
        "class Car(object):\n",
        "    def __init__(self,make,model,color):\n",
        "        self.make=make;\n",
        "        self.model=model;\n",
        "        self.color=color;\n",
        "        self.owner_number=0 \n",
        "    def car_info(self):\n",
        "        print(\"make: \",self.make)\n",
        "        print(\"model:\", self.model)\n",
        "        print(\"color:\",self.color)\n",
        "        print(\"number of owners:\",self.owner_number)\n",
        "    def sell(self):\n",
        "        self.owner_number=self.owner_number+1"
      ],
      "metadata": {
        "id": "K8K0Fqtn9iCT"
      },
      "execution_count": 3,
      "outputs": []
    },
    {
      "cell_type": "code",
      "source": [
        "mycar1 = Car(\"Ford\", \"Fiesta\", \"Red\")\n",
        "mycar2 = Car(make=\"honda\", model=\"Accord\",color=\"blue\")\n",
        "mycar3 = Car(model=\"Accord\", make=\"honda\",color=\"blue\")\n",
        "\n",
        "mycar1.car_info()\n",
        "mycar2.car_info()\n",
        "mycar3.car_info()"
      ],
      "metadata": {
        "id": "wE0aGxKN9pij",
        "outputId": "995e374c-e503-4e75-c47f-6508567e4b34",
        "colab": {
          "base_uri": "https://localhost:8080/"
        }
      },
      "execution_count": 13,
      "outputs": [
        {
          "output_type": "stream",
          "name": "stdout",
          "text": [
            "make:  Ford\n",
            "model: Fiesta\n",
            "color: Red\n",
            "number of owners: 0\n",
            "make:  honda\n",
            "model: Accord\n",
            "color: blue\n",
            "number of owners: 0\n",
            "make:  honda\n",
            "model: Accord\n",
            "color: blue\n",
            "number of owners: 0\n"
          ]
        }
      ]
    }
  ],
  "metadata": {
    "kernelspec": {
      "display_name": "Python 3.8.10 64-bit",
      "language": "python",
      "name": "python3"
    },
    "language_info": {
      "codemirror_mode": {
        "name": "ipython",
        "version": 3
      },
      "file_extension": ".py",
      "mimetype": "text/x-python",
      "name": "python",
      "nbconvert_exporter": "python",
      "pygments_lexer": "ipython3",
      "version": "3.8.10"
    },
    "orig_nbformat": 4,
    "vscode": {
      "interpreter": {
        "hash": "916dbcbb3f70747c44a77c7bcd40155683ae19c65e1c03b4aa3499c5328201f1"
      }
    },
    "colab": {
      "provenance": []
    }
  },
  "nbformat": 4,
  "nbformat_minor": 0
}