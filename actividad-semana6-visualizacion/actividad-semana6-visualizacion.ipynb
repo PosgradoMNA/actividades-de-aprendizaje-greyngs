{
 "cells": [
  {
   "cell_type": "markdown",
   "metadata": {},
   "source": [
    "<a href=\"https://colab.research.google.com/github/PosgradoMNA/actividades-de-aprendizaje-greyngs/blob/main/actividad-semana6-visualizacion/actividad-semana6-visualizacion.ipynb\" target=\"_parent\"><img src=\"https://colab.research.google.com/assets/colab-badge.svg\" alt=\"Open In Colab\"/></a>"
   ]
  },
  {
   "cell_type": "markdown",
   "metadata": {},
   "source": [
    "#### Actividad - Semana 6 - Visualizacion\n",
    "#### Jorge Steven Reyes - A01794421\n",
    "#### Profesor: María de la Paz Rico Fernández\n",
    "#### Ciencia y analitica de datos - 01/11/2022"
   ]
  },
  {
   "cell_type": "markdown",
   "metadata": {},
   "source": []
  }
 ],
 "metadata": {
  "kernelspec": {
   "display_name": "Python 3.8.10 64-bit",
   "language": "python",
   "name": "python3"
  },
  "language_info": {
   "name": "python",
   "version": "3.8.10"
  },
  "orig_nbformat": 4,
  "vscode": {
   "interpreter": {
    "hash": "916dbcbb3f70747c44a77c7bcd40155683ae19c65e1c03b4aa3499c5328201f1"
   }
  }
 },
 "nbformat": 4,
 "nbformat_minor": 2
}
