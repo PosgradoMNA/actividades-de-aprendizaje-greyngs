{
 "cells": [
  {
   "cell_type": "markdown",
   "metadata": {},
   "source": [
    "<a href=\"https://colab.research.google.com/github/PosgradoMNA/actividades-de-aprendizaje-greyngs/blob/main/1_Python_for_Data_Science_course/Module_2-Python_Data_Structures.ipynb\" target=\"_parent\"><img src=\"https://colab.research.google.com/assets/colab-badge.svg\" alt=\"Open In Colab\"/></a>"
   ]
  },
  {
   "cell_type": "markdown",
   "metadata": {},
   "source": [
    "#### Jorge Steven Reyes - A01794421"
   ]
  },
  {
   "cell_type": "markdown",
   "metadata": {},
   "source": [
    "## Module 2 - Python Data Structures"
   ]
  },
  {
   "cell_type": "markdown",
   "metadata": {},
   "source": [
    "### Python list"
   ]
  },
  {
   "cell_type": "code",
   "execution_count": 1,
   "metadata": {},
   "outputs": [],
   "source": [
    "thislist = [\"apple\", \"banana\", \"cherry\", \"orange\", \"kiwi\", \"melon\", \"mango\"]\n",
    "thislist = list((\"apple\", \"banana\", \"cherry\", \"orange\", \"kiwi\", \"melon\", \"mango\"))\n",
    "list1 = [\"abc\", 34, True, 40, \"male\"]\n",
    "len(thislist)\n",
    "type(list1)\n",
    "\n",
    "thislist[0] # First element\n",
    "thislist[-1] # Last element\n",
    "thislist[2:5] # Access by range\n",
    "\n",
    "# Change item\n",
    "thislist[1] = \"blackcurrant\"\n",
    "\n",
    "# Insert\n",
    "thislist.insert(2, \"watermelon\")\n",
    "\n",
    "# Append\n",
    "thislist.append(\"blueberry\")\n",
    "\n",
    "# Extend\n",
    "tropical = [\"mango\", \"pineapple\", \"papaya\"]\n",
    "thislist.extend(tropical)\n",
    "\n",
    "# Remove\n",
    "thislist.remove(\"blueberry\")\n",
    "thislist.pop(2)\n",
    "del thislist[0] # Remove the first element\n",
    "\n",
    "# Clear\n",
    "thislist.clear()\n",
    "\n",
    "# Loop\n",
    "for x in thislist:\n",
    "  print(x)\n",
    "\n",
    "for i in range(len(thislist)):\n",
    "  print(thislist[i])\n",
    "\n",
    "i = 0\n",
    "while i < len(thislist):\n",
    "  print(thislist[i])\n",
    "  i = i + 1\n",
    "\n",
    "[print(x) for x in thislist]\n",
    "\n",
    "# Sort\n",
    "thislist.sort()\n",
    "thislist.sort(reverse = True)\n",
    "thislist.reverse()\n",
    "\n",
    "# Copy\n",
    "mylist = thislist.copy()\n",
    "mylist = list(thislist)\n",
    "\n",
    "# More list methods: https://www.w3schools.com/python/python_lists_methods.asp"
   ]
  },
  {
   "cell_type": "markdown",
   "metadata": {},
   "source": [
    "### Tuples"
   ]
  },
  {
   "cell_type": "code",
   "execution_count": 2,
   "metadata": {},
   "outputs": [],
   "source": [
    "# is like a list but is not mutable\n",
    "# we have the same list methods and access\n",
    "\n",
    "# We can change the tuple casting like list and change the item and them return to casting to tuple\n",
    "x = (\"apple\", \"banana\", \"cherry\")\n",
    "y = list(x)\n",
    "y[1] = \"kiwi\"\n",
    "x = tuple(y)"
   ]
  },
  {
   "cell_type": "markdown",
   "metadata": {},
   "source": [
    "### Sets"
   ]
  },
  {
   "cell_type": "code",
   "execution_count": 3,
   "metadata": {},
   "outputs": [
    {
     "data": {
      "text/plain": [
       "True"
      ]
     },
     "execution_count": 3,
     "metadata": {},
     "output_type": "execute_result"
    }
   ],
   "source": [
    "set1 = {\"apple\", \"pear\", \"blueberry\"}\n",
    "set2 = {\"pineapple\", \"pear\", \"banana\"}\n",
    "set3 = set1 & set2 # intersection\n",
    "\n",
    "set1.union(set2) # union\n",
    "\n",
    "set1 = {\"apple\", \"pear\", \"blueberry\"}\n",
    "set2 = {\"apple\", \"pear\"}\n",
    "set2.issubset(set1) # check if set2 is a subset of set1"
   ]
  },
  {
   "cell_type": "markdown",
   "metadata": {},
   "source": [
    "### Dict"
   ]
  },
  {
   "cell_type": "code",
   "execution_count": 4,
   "metadata": {},
   "outputs": [
    {
     "data": {
      "text/plain": [
       "dict_items([('brand', 'Ford'), ('electric', False), ('year', 1964), ('colors', ['red', 'white', 'blue'])])"
      ]
     },
     "execution_count": 4,
     "metadata": {},
     "output_type": "execute_result"
    }
   ],
   "source": [
    "thisdict = {\n",
    "  \"brand\": \"Ford\",\n",
    "  \"electric\": False,\n",
    "  \"year\": 1964,\n",
    "  \"colors\": [\"red\", \"white\", \"blue\"]\n",
    "}\n",
    "\n",
    "# The methods are like list but the access is with the key\n",
    "thisdict[\"brand\"]\n",
    "\n",
    "thisdict.keys()\n",
    "thisdict.items()\n",
    "\n",
    "# More dict methods: https://www.w3schools.com/python/python_dictionaries_methods.asp"
   ]
  }
 ],
 "metadata": {
  "kernelspec": {
   "display_name": "Python 3.8.10 64-bit",
   "language": "python",
   "name": "python3"
  },
  "language_info": {
   "codemirror_mode": {
    "name": "ipython",
    "version": 3
   },
   "file_extension": ".py",
   "mimetype": "text/x-python",
   "name": "python",
   "nbconvert_exporter": "python",
   "pygments_lexer": "ipython3",
   "version": "3.8.10"
  },
  "orig_nbformat": 4,
  "vscode": {
   "interpreter": {
    "hash": "916dbcbb3f70747c44a77c7bcd40155683ae19c65e1c03b4aa3499c5328201f1"
   }
  }
 },
 "nbformat": 4,
 "nbformat_minor": 2
}
