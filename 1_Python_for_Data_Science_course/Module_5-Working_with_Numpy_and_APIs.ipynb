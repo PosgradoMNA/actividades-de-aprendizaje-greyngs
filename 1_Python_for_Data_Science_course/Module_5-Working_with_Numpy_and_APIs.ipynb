{
  "cells": [
    {
      "cell_type": "markdown",
      "metadata": {
        "id": "_4tNrDzli6EO"
      },
      "source": [
        "<a href=\"https://colab.research.google.com/github/PosgradoMNA/actividades-de-aprendizaje-greyngs/blob/main/1_Python_for_Data_Science_course/Module_5-Working_with_Numpy_and_APIs.ipynb\" target=\"_parent\"><img src=\"https://colab.research.google.com/assets/colab-badge.svg\" alt=\"Open In Colab\"/></a>"
      ]
    },
    {
      "cell_type": "markdown",
      "metadata": {
        "id": "gX9XYsvKi6ES"
      },
      "source": [
        "#### Jorge Steven Reyes - A01794421"
      ]
    },
    {
      "cell_type": "markdown",
      "metadata": {
        "id": "nqX3ceJOi6ET"
      },
      "source": [
        "## Module 5 - Working with Numpy and APIs"
      ]
    },
    {
      "cell_type": "markdown",
      "metadata": {
        "id": "VB4A-hjDkEko"
      },
      "source": [
        "### Numpy"
      ]
    },
    {
      "cell_type": "code",
      "execution_count": 2,
      "metadata": {
        "colab": {
          "base_uri": "https://localhost:8080/"
        },
        "id": "3LlNpjWdjWa6",
        "outputId": "eb5b4654-9317-4239-c54d-6c98f69583ef"
      },
      "outputs": [
        {
          "data": {
            "text/plain": [
              "numpy.ndarray"
            ]
          },
          "execution_count": 2,
          "metadata": {},
          "output_type": "execute_result"
        }
      ],
      "source": [
        "import numpy as np\n",
        "\n",
        "a = np.array([0,1,2,3,4])\n",
        "type(a)"
      ]
    },
    {
      "cell_type": "code",
      "execution_count": 8,
      "metadata": {
        "colab": {
          "base_uri": "https://localhost:8080/"
        },
        "id": "UaDtvegTjcuu",
        "outputId": "4eb9f095-5246-4d1c-c4f4-3ab177d70449"
      },
      "outputs": [
        {
          "name": "stdout",
          "output_type": "stream",
          "text": [
            "[1 1]\n",
            "[2 2]\n",
            "0\n",
            "[1 2 3 4 5]\n"
          ]
        }
      ],
      "source": [
        "# Vector operation\n",
        "u = np.array([1,0])\n",
        "v = np.array([0,1])\n",
        "z = u + v\n",
        "print(z)\n",
        "\n",
        "z = z * 2\n",
        "print(z)\n",
        "\n",
        "# Dot product\n",
        "z = np.dot(u, v)\n",
        "print(z)\n",
        "\n",
        "# Adding constant to an numpy array\n",
        "z = a + 1\n",
        "print(z)"
      ]
    },
    {
      "cell_type": "markdown",
      "metadata": {
        "id": "YqMOimYe6Fqe"
      },
      "source": [
        "#### Cheat sheet"
      ]
    },
    {
      "cell_type": "code",
      "execution_count": 16,
      "metadata": {
        "colab": {
          "base_uri": "https://localhost:8080/",
          "height": 70
        },
        "id": "ZPg5wMgRpDKR",
        "outputId": "07740411-d316-4960-9b0e-5b6e088ea1ab"
      },
      "outputs": [
        {
          "data": {
            "application/vnd.google.colaboratory.intrinsic+json": {
              "type": "string"
            },
            "text/plain": [
              "'\\na.shape #Array dimensions\\nlen(a)#Length of array\\nb.ndim #Number of array dimensions\\ne.size #Number of array elements\\nb.dtype  #Data type of array elements\\nb.dtype.name  #Name of data type\\nb.astype(int) #Convert an array to a different type\\n\\n# Data types\\nnp.int64 #Signed 64-bit integer types\\nnp.float32 #Standard double-precision floating point\\nnp.complex #Complex numbers represented by 128 floats\\nnp.bool  #Boolean type storing TRUE and FALSE values\\nnp.object #Python object type\\nnp.string_ #Fixed-length string type\\nnp.unicode_ #Fixed-length unicode type\\n'"
            ]
          },
          "execution_count": 16,
          "metadata": {},
          "output_type": "execute_result"
        }
      ],
      "source": [
        "# Initial\n",
        "np.zeros((3,4)) #Create an array of zeros\n",
        "np.ones((2,3,4),dtype=np.int16) #Create an array of ones\n",
        "b = np.arange(10,25,5)#Create an array of evenly spaced values (step value)\n",
        "np.linspace(0,2,9) #Create an array of evenlyspaced values (number of samples)\n",
        "e = np.full((2,2),7)#Create a constant array\n",
        "f = np.eye(2) #Create a 2X2 identity matrix\n",
        "np.random.random((2,2)) #Create an array with random values\n",
        "np.empty((3,2)) #Create an empty array\n",
        "\n",
        "# I/O\n",
        "np.save('my_array' , a)\n",
        "np.savez( 'array.npz', a, b)\n",
        "np.load( 'my_array.npy')\n",
        "\n",
        "\"\"\"\n",
        "np.loadtxt(\"myfile.txt\")\n",
        "np.genfromtxt(\"my_file.csv\", delimiter= ',')\n",
        "np.savetxt( \"myarray.txt\", a, delimiter= \" \")\n",
        "\"\"\"\n",
        "\n",
        "# Inspecting array\n",
        "\"\"\"\n",
        "a.shape #Array dimensions\n",
        "len(a)#Length of array\n",
        "b.ndim #Number of array dimensions\n",
        "e.size #Number of array elements\n",
        "b.dtype  #Data type of array elements\n",
        "b.dtype.name  #Name of data type\n",
        "b.astype(int) #Convert an array to a different type\n",
        "\n",
        "# Data types\n",
        "np.int64 #Signed 64-bit integer types\n",
        "np.float32 #Standard double-precision floating point\n",
        "np.complex #Complex numbers represented by 128 floats\n",
        "np.bool  #Boolean type storing TRUE and FALSE values\n",
        "np.object #Python object type\n",
        "np.string_ #Fixed-length string type\n",
        "np.unicode_ #Fixed-length unicode type\n",
        "\"\"\""
      ]
    },
    {
      "cell_type": "code",
      "execution_count": 17,
      "metadata": {
        "colab": {
          "base_uri": "https://localhost:8080/",
          "height": 87
        },
        "id": "h1cmGQBARTh-",
        "outputId": "df0ec16b-a356-48bc-ed45-02bbc7097051"
      },
      "outputs": [
        {
          "data": {
            "application/vnd.google.colaboratory.intrinsic+json": {
              "type": "string"
            },
            "text/plain": [
              "\"\\ng = a - b #Subtraction\\nnp.subtract(a,b) #Subtraction\\nb + a #Addition \\nnp.add(b,a) #Addition \\na/b #Division \\nnp.divide(a,b) #Division \\na * b #Multiplication\\nnp.multiply(a,b) #Multiplication \\nnp.exp(b) #Exponentiation\\nnp.sqrt(b) #Square root\\nnp.sin(a)  #Print sines of an array\\nnp.cos(b) #Elementwise cosine\\nnp.log(a)#Elementwise natural logarithm\\ne.dot(f) #Dot product\\n\\n# Comparison\\na == b #Elementwise comparison\\na< 2 #Elementwise comparison\\nnp.array_equal(a, b) #Arraywise comparison\\n\\n# Copying arrays\\nh = a.view()#Create a view of the array with the same data\\nnp.copy(a) #Create a copy of the array\\nh = a.copy() #Create a deep copy of the array\\n\\n# Sorting\\na.sort() #Sort an array\\n#c.sort(axis=0) #Sort the elements of an array's axis\\n\""
            ]
          },
          "execution_count": 17,
          "metadata": {},
          "output_type": "execute_result"
        }
      ],
      "source": [
        "# Array Mathematics\n",
        "\"\"\"\n",
        "g = a - b #Subtraction\n",
        "np.subtract(a,b) #Subtraction\n",
        "b + a #Addition \n",
        "np.add(b,a) #Addition \n",
        "a/b #Division \n",
        "np.divide(a,b) #Division \n",
        "a * b #Multiplication\n",
        "np.multiply(a,b) #Multiplication \n",
        "np.exp(b) #Exponentiation\n",
        "np.sqrt(b) #Square root\n",
        "np.sin(a)  #Print sines of an array\n",
        "np.cos(b) #Elementwise cosine\n",
        "np.log(a)#Elementwise natural logarithm\n",
        "e.dot(f) #Dot product\n",
        "\n",
        "# Comparison\n",
        "a == b #Elementwise comparison\n",
        "a< 2 #Elementwise comparison\n",
        "np.array_equal(a, b) #Arraywise comparison\n",
        "\n",
        "# Copying arrays\n",
        "h = a.view()#Create a view of the array with the same data\n",
        "np.copy(a) #Create a copy of the array\n",
        "h = a.copy() #Create a deep copy of the array\n",
        "\n",
        "# Sorting\n",
        "a.sort() #Sort an array\n",
        "#c.sort(axis=0) #Sort the elements of an array's axis\n",
        "\"\"\"\n",
        "\n",
        "# For more info of the cheat sheet: https://www.datacamp.com/cheat-sheet/numpy-cheat-sheet-data-analysis-in-python"
      ]
    }
  ],
  "metadata": {
    "colab": {
      "provenance": []
    },
    "kernelspec": {
      "display_name": "Python 3.8.10 64-bit",
      "language": "python",
      "name": "python3"
    },
    "language_info": {
      "name": "python",
      "version": "3.8.10"
    },
    "orig_nbformat": 4,
    "vscode": {
      "interpreter": {
        "hash": "916dbcbb3f70747c44a77c7bcd40155683ae19c65e1c03b4aa3499c5328201f1"
      }
    }
  },
  "nbformat": 4,
  "nbformat_minor": 0
}
