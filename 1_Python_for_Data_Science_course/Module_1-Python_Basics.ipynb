{
 "cells": [
  {
   "cell_type": "markdown",
   "metadata": {},
   "source": [
    "<a href=\"https://colab.research.google.com/github/PosgradoMNA/actividades-de-aprendizaje-greyngs/blob/main/1_Python_for_Data_Science_course/Module_1-Python_Basics.ipynb\" target=\"_parent\"><img src=\"https://colab.research.google.com/assets/colab-badge.svg\" alt=\"Open In Colab\"/></a>"
   ]
  },
  {
   "cell_type": "markdown",
   "metadata": {},
   "source": [
    "#### Jorge Steven Reyes - A01794421"
   ]
  },
  {
   "cell_type": "markdown",
   "metadata": {},
   "source": [
    "## Modulo 1 - Python Basics"
   ]
  },
  {
   "cell_type": "markdown",
   "metadata": {},
   "source": [
    "### Variables"
   ]
  },
  {
   "cell_type": "code",
   "execution_count": 1,
   "metadata": {},
   "outputs": [
    {
     "name": "stdout",
     "output_type": "stream",
     "text": [
      "<class 'int'>\n"
     ]
    }
   ],
   "source": [
    "x = 5\n",
    "x = \"Jorge\"\n",
    "\n",
    "# Casting\n",
    "x = str(3)\n",
    "x = int(2.5)\n",
    "y = float(3)\n",
    "\n",
    "# Type\n",
    "print(type(x))"
   ]
  },
  {
   "cell_type": "markdown",
   "metadata": {},
   "source": [
    "### Data types"
   ]
  },
  {
   "cell_type": "code",
   "execution_count": 3,
   "metadata": {},
   "outputs": [],
   "source": [
    "# Text: str\n",
    "x = \"Hello world\"\n",
    "\n",
    "# Numeric Types: int, float, complex\n",
    "x = 20\n",
    "x = 2.0\n",
    "x = 1j\n",
    "\n",
    "# Sequence Types: list, tuple, range\n",
    "x = [\"apple\", \"banana\", \"cherry\"]\n",
    "x = (\"apple\", \"banana\", \"cherry\")\n",
    "x = range(6)\n",
    "\n",
    "# Mapping types: dict\n",
    "x = {\"name\": \"Jorge\", \"age\": 25}\n",
    "\n",
    "# Set types: set, frozenset\n",
    "x = {\"apple\", \"banana\", \"cherry\"}\n",
    "x = frozenset({\"apple\", \"banana\", \"cherry\"})\n",
    "\n",
    "# Boolean type: bool\n",
    "x = True\n",
    "\n",
    "# Binary Types: bytes, bytearray, memoryview\n",
    "x = b\"Hello\"\n",
    "x = bytearray(5)\n",
    "x = memoryview(bytes(5))\n",
    "\n",
    "# None Type: NoneType\n",
    "x = None"
   ]
  },
  {
   "cell_type": "markdown",
   "metadata": {},
   "source": [
    "### Strings"
   ]
  },
  {
   "cell_type": "code",
   "execution_count": 4,
   "metadata": {},
   "outputs": [
    {
     "name": "stdout",
     "output_type": "stream",
     "text": [
      "H\n",
      "Hello\n",
      "Hlowrd\n",
      "False\n"
     ]
    },
    {
     "data": {
      "text/plain": [
       "'Im George and Im 25'"
      ]
     },
     "execution_count": 4,
     "metadata": {},
     "output_type": "execute_result"
    }
   ],
   "source": [
    "a = \"Hello world!\"\n",
    "\n",
    "# Slicing\n",
    "print(a[0])\n",
    "print(a[0:5])\n",
    "print(a[::2])\n",
    "\n",
    "#Length\n",
    "len(a)\n",
    "\n",
    "# Check\n",
    "print(\"free\" in a)\n",
    "\n",
    "# Modify\n",
    "a.upper()\n",
    "a.lower()\n",
    "a.strip() # Remove whitespace\n",
    "a.replace(\"H\", \"J\")\n",
    "a.split(\",\") # Return ['Hello', ' world!']\n",
    "\n",
    "# combine strings and numbers \n",
    "b = \"Im George and Im {}\"\n",
    "b.format(25)\n",
    "\n",
    "# Escape characters\n",
    "#\\'\n",
    "#\\\\\n",
    "#\\n New line\n",
    "#\\r Carriage return\n",
    "#\\t tab\n",
    "#\\b Backspace\n",
    "#\\f Form feed\n",
    "#\\ooo Octal value\n",
    "#\\xhh Hex value\n",
    "\n",
    "# More string methods: https://www.w3schools.com/python/python_strings_methods.asp"
   ]
  },
  {
   "cell_type": "markdown",
   "metadata": {},
   "source": [
    "### Python operators"
   ]
  },
  {
   "cell_type": "code",
   "execution_count": 10,
   "metadata": {},
   "outputs": [],
   "source": [
    "# + - * /\n",
    "# % modulus\n",
    "# ** Exponentiation\n",
    "# // Floor division\n",
    "\n",
    "# Assignment operators\n",
    "# = += -= *= /= %= //= **= &= |= ^= >>= <<=\n",
    "\n",
    "# Comparison operators\n",
    "# == != > < >= <=\n",
    "\n",
    "# Logical operators\n",
    "# and or not\n",
    "\n",
    "# Identity operators\n",
    "# is, is not\n",
    "\n",
    "# Membership operators\n",
    "# in, not in\n",
    "\n",
    "# Bitwise operators\n",
    "# & and\n",
    "# | or\n",
    "# ^ xor\n",
    "# ~ not\n",
    "# << zero fill left shift\n",
    "# >> Signed right shift"
   ]
  },
  {
   "cell_type": "code",
   "execution_count": null,
   "metadata": {},
   "outputs": [],
   "source": []
  }
 ],
 "metadata": {
  "kernelspec": {
   "display_name": "Python 3.8.10 64-bit",
   "language": "python",
   "name": "python3"
  },
  "language_info": {
   "codemirror_mode": {
    "name": "ipython",
    "version": 3
   },
   "file_extension": ".py",
   "mimetype": "text/x-python",
   "name": "python",
   "nbconvert_exporter": "python",
   "pygments_lexer": "ipython3",
   "version": "3.8.10"
  },
  "orig_nbformat": 4,
  "vscode": {
   "interpreter": {
    "hash": "916dbcbb3f70747c44a77c7bcd40155683ae19c65e1c03b4aa3499c5328201f1"
   }
  }
 },
 "nbformat": 4,
 "nbformat_minor": 2
}
