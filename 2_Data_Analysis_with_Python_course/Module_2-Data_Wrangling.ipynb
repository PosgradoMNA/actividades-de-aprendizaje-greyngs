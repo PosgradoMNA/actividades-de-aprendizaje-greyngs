{
 "cells": [
  {
   "cell_type": "markdown",
   "metadata": {},
   "source": [
    "<a href=\"https://colab.research.google.com/github/PosgradoMNA/actividades-de-aprendizaje-greyngs/blob/main/2_Data_Analysis_with_Python_course/Module_2-Data_Wrangling.ipynb\" target=\"_parent\"><img src=\"https://colab.research.google.com/assets/colab-badge.svg\" alt=\"Open In Colab\"/></a>"
   ]
  },
  {
   "cell_type": "markdown",
   "metadata": {},
   "source": [
    "#### Jorge Steven Reyes - A01794421"
   ]
  },
  {
   "cell_type": "markdown",
   "metadata": {},
   "source": [
    "Imagen prueba Graded Review Questions Module 2\n",
    "<img src=\"assets/Capture20.PNG\"\n",
    "     alt=\"Markdown Monster icon\"\n",
    "     style=\"float: left; margin-right: 10px;\" />"
   ]
  },
  {
   "cell_type": "markdown",
   "metadata": {},
   "source": [
    "## Modulo 2 - Data Wrangling"
   ]
  },
  {
   "cell_type": "markdown",
   "metadata": {},
   "source": [
    "### Data Pre-processing or Data Wrangling"
   ]
  },
  {
   "cell_type": "markdown",
   "metadata": {},
   "source": [
    "The process of converting or mapping data from the initial \"raw\" form into another format, in order to prepare the data for further analysis."
   ]
  },
  {
   "cell_type": "markdown",
   "metadata": {},
   "source": [
    "### Dealing with Missing Values in Python"
   ]
  },
  {
   "cell_type": "markdown",
   "metadata": {},
   "source": [
    "* Check with the data collection source\n",
    "* Drop the missing values.\n",
    "    - drop the variable.\n",
    "    - drop the data entry.\n",
    "* Replace the missing values.\n",
    "    - Replace it with an average (of similar datapoints)\n",
    "    - Replace it by frequency.\n",
    "    - Replace it based on other functions.\n",
    "* Leave it as missing data."
   ]
  },
  {
   "cell_type": "markdown",
   "metadata": {},
   "source": [
    "#### Pandas Drop:\n",
    "dataframes.dropna()\n",
    "axis=0 drops the entire row\n",
    "axis=1 drops the entire column\n",
    "Example delete the row without price data:\n",
    "df.dropna(subset=[\"price\"], axis=0, inplace=True)"
   ]
  },
  {
   "cell_type": "markdown",
   "metadata": {},
   "source": [
    "#### Pandas replace:\n",
    "dataframe.replace(missing_value, new_value)\n",
    "Example replace a missing value with the mean of the column: (normalized-losses is the column)\n",
    "first get the mean: mean = df[\"normalized-losses\"].mean()\n",
    "df[\"normalized-losses\"].replace(np.nan, mean)"
   ]
  },
  {
   "cell_type": "markdown",
   "metadata": {},
   "source": [
    "### Data formating in Python"
   ]
  },
  {
   "cell_type": "markdown",
   "metadata": {},
   "source": [
    "Example:\n",
    "\n",
    "Convert \"mpg\" to \"L/100km\" in car dataset\n",
    "\n",
    "| Citi-mpg | city-l/100km |\n",
    "|----------|--------------|\n",
    "| 21       | 11.2         |\n",
    "| 21       | 11.2         |\n",
    "| 19       | 12.4         |\n",
    "| ...      | ...          |\n",
    "\n",
    "df[\"city-mpg\"] = 235/df[\"city-mpg\"]\n",
    "df.rename(columns={\"city_mpg\": \"city-L/100km\"}, inplace=True)\n",
    "\n",
    "Sometime the wrong data type is assigned to a feature.\n",
    "For example with the price column have the data type like object."
   ]
  },
  {
   "cell_type": "code",
   "execution_count": null,
   "metadata": {},
   "outputs": [],
   "source": [
    "# To check the data type:\n",
    "dataframe.dtype()\n",
    "\n",
    "# To convert data type:\n",
    "df[\"price\"] = df[\"price\"].astype(\"int\")"
   ]
  },
  {
   "cell_type": "markdown",
   "metadata": {},
   "source": [
    "### Data normalization"
   ]
  },
  {
   "cell_type": "markdown",
   "metadata": {},
   "source": [
    "#### Simple feature scaling\n",
    "\n",
    "$$ X_{new}=\\frac{X_{old}}{X_{max}} $$"
   ]
  },
  {
   "cell_type": "markdown",
   "metadata": {},
   "source": [
    "#### Min-Max\n",
    "\n",
    "$$ X_{new}=\\frac{X_{old}-X_{min}}{X_{max}-X_{min}} $$"
   ]
  },
  {
   "cell_type": "markdown",
   "metadata": {},
   "source": [
    "#### Z-score\n",
    "\n",
    "$$ X_{new}=\\frac{X_{old}-\\mu}{\\sigma} $$\n",
    "\n",
    "\\mu es el promedio de la entidad.\n",
    "\\sigma es la desviacion estandar."
   ]
  },
  {
   "cell_type": "markdown",
   "metadata": {},
   "source": [
    "### Binnign - Rangos"
   ]
  },
  {
   "cell_type": "markdown",
   "metadata": {},
   "source": [
    "Binning: Grouping of values into \"bins\"\n",
    "\n",
    "Converts numeric into categorical variables.\n",
    "\n",
    "Group a set of numerical values into a set of \"bins\"\n",
    "\n",
    "\"price\" is a feature range from 5000 to 45500 (in order to have a better representation of price)\n",
    "\n",
    "price:\n",
    "\n",
    "5000, 10000, 12000, 12000 low\n",
    "\n",
    "30000, 31000 mid\n",
    "\n",
    "39000, 44000, 44500 hight\n"
   ]
  },
  {
   "cell_type": "code",
   "execution_count": null,
   "metadata": {},
   "outputs": [],
   "source": [
    "bins = np.linspace(min(df[\"price\"]), max(df[\"price\"]), 4)\n",
    "group_names = [\"Low\", \"Medium\", \"High\"]\n",
    "df[\"price-binned\"] = pd.cut(df[\"price\"], bins, labels=group_names, include_lowest=True)"
   ]
  },
  {
   "cell_type": "markdown",
   "metadata": {},
   "source": [
    "### Turning categorical variables into quantitative variables in Python"
   ]
  },
  {
   "cell_type": "markdown",
   "metadata": {},
   "source": [
    "| fuel   | city-l/100kmgas | diesel |\n",
    "|--------|-----------------|--------|\n",
    "| gas    | 1               | 0      |\n",
    "| diesel | 0               | 1      |\n",
    "| gas    | 1               | 0      |\n",
    "| gas    | 1               | 0      |\n",
    "\n",
    "pd.get_dummies(df['fuel])"
   ]
  },
  {
   "cell_type": "markdown",
   "metadata": {},
   "source": []
  }
 ],
 "metadata": {
  "kernelspec": {
   "display_name": "Python 3.8.10 64-bit",
   "language": "python",
   "name": "python3"
  },
  "language_info": {
   "name": "python",
   "version": "3.8.10"
  },
  "orig_nbformat": 4,
  "vscode": {
   "interpreter": {
    "hash": "916dbcbb3f70747c44a77c7bcd40155683ae19c65e1c03b4aa3499c5328201f1"
   }
  }
 },
 "nbformat": 4,
 "nbformat_minor": 2
}
