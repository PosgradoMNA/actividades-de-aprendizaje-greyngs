{
 "cells": [
  {
   "cell_type": "markdown",
   "metadata": {},
   "source": [
    "<a href=\"https://colab.research.google.com/github/PosgradoMNA/actividades-de-aprendizaje-greyngs/blob/main/2_Data_Analysis_with_Python_course/Module_4-Model_Development.ipynb\" target=\"_parent\"><img src=\"https://colab.research.google.com/assets/colab-badge.svg\" alt=\"Open In Colab\"/></a>"
   ]
  },
  {
   "cell_type": "markdown",
   "metadata": {},
   "source": [
    "#### Jorge Steven Reyes - A01794421"
   ]
  },
  {
   "cell_type": "markdown",
   "metadata": {},
   "source": [
    "Imagen prueba Graded Review Questions Module 4\n",
    "<img src=\"assets/Capture25.PNG\"\n",
    "     alt=\"Markdown Monster icon\"\n",
    "     style=\"float: left; margin-right: 10px;\" />"
   ]
  },
  {
   "cell_type": "markdown",
   "metadata": {},
   "source": [
    "## Modulo 4 - Model Development"
   ]
  },
  {
   "cell_type": "markdown",
   "metadata": {},
   "source": [
    "### 1. Model"
   ]
  },
  {
   "cell_type": "markdown",
   "metadata": {},
   "source": [
    "#### 1.1. Model"
   ]
  },
  {
   "cell_type": "markdown",
   "metadata": {},
   "source": [
    "A model can be thought of as a mathematical equation used to predict a value given one or more other values.\n",
    "Relating one or more independent variables to dependent variables.\n",
    "\n",
    "Example:\n",
    "\n",
    "Independent variables or features\n",
    "'highway-mpg'\n",
    "55 mpg\n",
    "\n",
    "Model\n",
    "\n",
    "Dependent variables\n",
    "'predicted price'\n",
    "$5000"
   ]
  },
  {
   "cell_type": "markdown",
   "metadata": {},
   "source": [
    "### 2. Linear regression and Multiple linear regression"
   ]
  },
  {
   "cell_type": "markdown",
   "metadata": {},
   "source": [
    "#### 2.1. Linear regression"
   ]
  },
  {
   "cell_type": "markdown",
   "metadata": {},
   "source": [
    "Will refer to one independent variable to make a prediction."
   ]
  },
  {
   "cell_type": "markdown",
   "metadata": {},
   "source": [
    "<img src=\"assets/Capture5.PNG\"\n",
    "     alt=\"Markdown Monster icon\"\n",
    "     style=\"float: left; margin-right: 10px;\" />"
   ]
  },
  {
   "cell_type": "markdown",
   "metadata": {},
   "source": [
    "Simple linear regression or SLR is a method help to understand the relation between two variables.\n",
    "\n",
    "1. The predictor (independent) variable - x\n",
    "2. The target (dependent) variable - y\n",
    "\n",
    "$y=b_{0}+b_{1}x$\n",
    "\n",
    "$b_{0}=$ the intercept\n",
    "$b_{1}=$ the slope\n",
    "Is hard predict a car price but the mill/gal but is this two variables are lineal relationship we can make a model to determinate del car price."
   ]
  },
  {
   "cell_type": "markdown",
   "metadata": {},
   "source": [
    "##### 2.1.1. Proccess"
   ]
  },
  {
   "cell_type": "markdown",
   "metadata": {},
   "source": [
    "- Obtenemos los puntos de entrenamiento frecuentemente en arreglos de pandas X y Y.\n",
    "- Utilizamos estos puntos de entrenamiento para ajustar o entrenar el modelo y obtener parametros.\n",
    "- Usamos estos parametros en el modelo y obtenemos el modelo. $\\hat{y}=b_{0}+b_{1}x$ the hat Y indicando que el modelo es una estimacion."
   ]
  },
  {
   "cell_type": "markdown",
   "metadata": {},
   "source": [
    "##### 2.1.2. Python linear model"
   ]
  },
  {
   "cell_type": "markdown",
   "metadata": {},
   "source": [
    "- import linear_model from scikit-learn\n",
    "  from sklearn.linear_model import LinearRegression\n",
    "- Create a Linear regression object using the constructor:\n",
    "  lm=LinearRegression()\n",
    "- We define the predictor variable and target variable\n",
    "  x= df[['highway-mpg']]\n",
    "  y= df['price']\n",
    "- Then use [lm.fit](http://lm.fit) (x,y) to fit the model, i.e finde the parameters $b_{0}$and $b_{1}$\n",
    "  lm.fit(x,y)\n",
    "- We can obtain a prediction\n",
    "  Yhat=lm.predict(X)\n",
    "- The output is an array\n",
    "- We can view the intercept ( $b_{0}$): lm.intercept_\n",
    "  We can view the intercept ( $b_{1}$): lm.coef_"
   ]
  },
  {
   "cell_type": "markdown",
   "metadata": {},
   "source": [
    "#### 2.2. Multiple linear regression (MLR)"
   ]
  },
  {
   "cell_type": "markdown",
   "metadata": {},
   "source": [
    "This method is used to explain the relationship between:\n",
    "\n",
    "- One continuous target (Y) variable.\n",
    "- Two or more predictor (X) variables\n",
    "\n",
    "If we have 4 variables:\n",
    "\n",
    "$\\hat{y}=b_{0}+b_{1}x_{1}+b_{2}x_{2}+b_{3}x_{3}+b_{4}x_{4}$\n",
    "\n",
    "$b_{0}=$ the intercept (x=0)\n",
    "$b_{1}=$ the coefficient or parameter of $x_{1}$\n",
    "$b_{2}=$ the coefficient or parameter of $x_{2}$ and so on..\n",
    "\n",
    "Proccess:\n",
    "\n",
    "1. We can extract the for 4 predictor variables and store them in the variable Z\n",
    "  Z = df[[['horsepower', 'curb-weight', 'engine-size', 'highway-mpg']]\n",
    "2. Then train the model as before:\n",
    "  lm.fit(Z, df['price'])\n",
    "3. We can also obtain a prediction\n",
    "  Yhat=lm.predict(X)\n",
    "4. In this case the input is a matrix of 4 columns\n",
    "5. The output is an array\n",
    "6. We can view the intercept ( $b_{0}$): lm.intercept_\n",
    "  We can view the intercept ( $b_{1}$): lm.coef_"
   ]
  },
  {
   "cell_type": "markdown",
   "metadata": {},
   "source": [
    "### 3. Regression Plot"
   ]
  },
  {
   "cell_type": "markdown",
   "metadata": {},
   "source": [
    "There are many ways to plot a regression but the easy way is with seaborn:"
   ]
  },
  {
   "cell_type": "code",
   "execution_count": null,
   "metadata": {},
   "outputs": [],
   "source": [
    "import seaborn as sns\n",
    "\n",
    "sns.regplot(x=\"highway-mpg\", y=\"price\",data=df)\n",
    "plt.ylim(0,)"
   ]
  },
  {
   "cell_type": "markdown",
   "metadata": {},
   "source": [
    "#### 3.1. Residual plot"
   ]
  },
  {
   "cell_type": "markdown",
   "metadata": {},
   "source": [
    "The residual plot represent the error between the real value.\n",
    "Examinando el valor previsto y el valor real vemos una diferencia.\n",
    "Se obtiene el valor restando el valor previsto y el valor objetivo real.\n",
    "Se traza ese valor en el eje vertical con la variable independiente como eje horizontal, del mismo modo para la segunda muestra.\n",
    "\n",
    "Esperamos que los resultados tengan una media cero, distribuida uniformemente alrededor del eje x con varianza similar.\n",
    "\n",
    "Esta tipo de grafica residual sugiere que una linear plot es apropiada.\n",
    "\n",
    "Si la varianza aumenta con x, nuestro modelo es incorrecto.\n",
    "\n",
    "Podemos usar seaborn para crear una residual plot:"
   ]
  },
  {
   "cell_type": "code",
   "execution_count": null,
   "metadata": {},
   "outputs": [],
   "source": [
    "import seaborn as sns\n",
    "\n",
    "sns.residplot(df['highway-mpg'], df['price'])"
   ]
  },
  {
   "cell_type": "markdown",
   "metadata": {},
   "source": [
    "#### 3.2. Distribution Plot"
   ]
  },
  {
   "cell_type": "markdown",
   "metadata": {},
   "source": [
    "Cuenta el valor previsto en comparacion con el valor real, es buena para modelos con mas de una variable o entidad independiente."
   ]
  },
  {
   "cell_type": "code",
   "execution_count": null,
   "metadata": {},
   "outputs": [],
   "source": [
    "import seaborn as sns\n",
    "\n",
    "ax1 = sns.distplot(df['price'], hist=False, color=\"r\", label=\"Actual Value\")\n",
    "\n",
    "sns.distplot(Yhat, hist=False, color=\"b\", label=\"Fitted Values\", ax=ax1)"
   ]
  },
  {
   "cell_type": "markdown",
   "metadata": {},
   "source": [
    "### 4. Polynomial Regression and Pipelines"
   ]
  },
  {
   "cell_type": "markdown",
   "metadata": {},
   "source": [
    "#### 4.1 Polynomial regressions"
   ]
  },
  {
   "cell_type": "markdown",
   "metadata": {},
   "source": [
    "- A special case of the general linear regression model\n",
    "- Useful for describing curvilinear relationships\n",
    "\n",
    "Example:\n",
    "\n",
    "1. Calculate polynomial of 3 order\n",
    "\n",
    "f=np.polyfit(x,y,3)\n",
    "\n",
    "p=np.poly1d(f)\n",
    "\n",
    "1. we can print out the model\n",
    "\n",
    "print(p)"
   ]
  },
  {
   "cell_type": "markdown",
   "metadata": {},
   "source": [
    "#### 4.2. Polynomial Regression with more than one dimension"
   ]
  },
  {
   "cell_type": "markdown",
   "metadata": {},
   "source": [
    "- the “Preprocessing” library in scikit-learn\n",
    "\n",
    "from sklearn.preprocessing import PolynomialFeatures\n",
    "\n",
    "pr=PolynomialFeatures(degree=2, include_bias=False)\n",
    "\n",
    "x_polly=pr.fit_transform(x[[’horsepower’, ‘curb-weight’]])"
   ]
  },
  {
   "cell_type": "markdown",
   "metadata": {},
   "source": [
    "#### 4.3 Pipelines"
   ]
  },
  {
   "cell_type": "markdown",
   "metadata": {},
   "source": [
    "There are many stepds to getting a prediction\n",
    "\n",
    "Normalization → Polynomial transform → Linear Regression\n",
    "\n",
    "**first we need to import all the modules**\n",
    "\n",
    "from sklearn.preprocessing import PolynomialFeactures\n",
    "\n",
    "from sklearn.linear_model import LinearRegression\n",
    "\n",
    "from sklearn.preprocessing import StandarScaler\n",
    "\n",
    "from sklearn.pipeline import Pipeline\n",
    "\n",
    "**Create a list of tuples**\n",
    "\n",
    "Input=[(’scale’, StandardScaler()),(’polynomial’, PolynomialFeatures(degree=2),(’mode’, LinearRegression())]"
   ]
  },
  {
   "cell_type": "markdown",
   "metadata": {},
   "source": [
    "### 5. Measures for In-Sample Evaluation"
   ]
  },
  {
   "cell_type": "markdown",
   "metadata": {},
   "source": [
    "The meauser are a numerical way to determinate how well a model fits our data.\n",
    "Two important measures to determine the fit of a model:\n",
    "\n",
    "- Mean squared Error (MSE)\n",
    "- R-squared (R^2)"
   ]
  },
  {
   "cell_type": "markdown",
   "metadata": {},
   "source": [
    "#### 5.1 Mean Squared Error (MSE)"
   ]
  },
  {
   "cell_type": "markdown",
   "metadata": {},
   "source": [
    "find the difrent between the real value and the predicted value a then squared.\n",
    "Then take the averages of all errors, adding all and divide by the number of samples."
   ]
  },
  {
   "cell_type": "code",
   "execution_count": null,
   "metadata": {},
   "outputs": [],
   "source": [
    "from sklearn.metrics import mean_squared_error\n",
    "mean_squared_error(df['price'],Y_predict_simple_fit)"
   ]
  },
  {
   "cell_type": "markdown",
   "metadata": {},
   "source": [
    "#### 5.2 R-squared / R^2"
   ]
  },
  {
   "cell_type": "markdown",
   "metadata": {},
   "source": [
    "The coefficient of Determination or R squared (R^2)\n",
    "Is a measure to determine how close the data is to the fitted regression line.\n",
    "R^2: the percentage of variation of the target variable (Y) that is explained by the linear model.\n",
    "\n",
    "$R^{2}=(1-\\frac{\\text {MSE of regression line}}{\\text {MSE of the average of the data}})$\n",
    "\n",
    "This takes values around 0 to 1."
   ]
  },
  {
   "cell_type": "markdown",
   "metadata": {},
   "source": [
    "<img src=\"assets/Capture1.PNG\"\n",
    "     alt=\"Markdown Monster icon\"\n",
    "     style=\"float: left; margin-right: 10px;\" />\n",
    "\n",
    "<img src=\"assets/Capture2.PNG\"\n",
    "     alt=\"Markdown Monster icon\"\n",
    "     style=\"float: left; margin-right: 10px;\" />"
   ]
  },
  {
   "cell_type": "markdown",
   "metadata": {},
   "source": [
    "Tiende a 0 \n",
    "<img src=\"assets/Capture3.PNG\"\n",
    "     alt=\"Markdown Monster icon\"\n",
    "     style=\"float: left; margin-right: 10px;\" />"
   ]
  },
  {
   "cell_type": "markdown",
   "metadata": {},
   "source": [
    "Tiende a 1, lo que significa que la linea es un buen ajuste para los datos"
   ]
  },
  {
   "cell_type": "code",
   "execution_count": null,
   "metadata": {},
   "outputs": [],
   "source": [
    "X = df[['highway-mpg']]\n",
    "Y = df['price']\n",
    "lm.fit(X, Y)\n",
    "lm.score(X, Y)"
   ]
  },
  {
   "cell_type": "markdown",
   "metadata": {},
   "source": [
    "Si el R^2 es negativo, puede deberse a un exceso de ajuste."
   ]
  }
 ],
 "metadata": {
  "kernelspec": {
   "display_name": "Python 3.8.10 64-bit",
   "language": "python",
   "name": "python3"
  },
  "language_info": {
   "codemirror_mode": {
    "name": "ipython",
    "version": 3
   },
   "file_extension": ".py",
   "mimetype": "text/x-python",
   "name": "python",
   "nbconvert_exporter": "python",
   "pygments_lexer": "ipython3",
   "version": "3.8.10"
  },
  "orig_nbformat": 4,
  "vscode": {
   "interpreter": {
    "hash": "916dbcbb3f70747c44a77c7bcd40155683ae19c65e1c03b4aa3499c5328201f1"
   }
  }
 },
 "nbformat": 4,
 "nbformat_minor": 2
}
