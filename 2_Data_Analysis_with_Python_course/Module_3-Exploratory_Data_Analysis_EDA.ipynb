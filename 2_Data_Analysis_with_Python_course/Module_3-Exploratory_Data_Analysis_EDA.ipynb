{
 "cells": [
  {
   "cell_type": "markdown",
   "metadata": {},
   "source": [
    "<a href=\"https://colab.research.google.com/github/PosgradoMNA/actividades-de-aprendizaje-greyngs/blob/main/2_Data_Analysis_with_Python_course/Module_3-Exploratory_Data_Analysis_EDA.ipynb\" target=\"_parent\"><img src=\"https://colab.research.google.com/assets/colab-badge.svg\" alt=\"Open In Colab\"/></a>"
   ]
  },
  {
   "cell_type": "markdown",
   "metadata": {},
   "source": [
    "#### Jorge Steven Reyes - A01794421"
   ]
  },
  {
   "cell_type": "markdown",
   "metadata": {},
   "source": [
    "Imagen prueba Graded Review Questions Module 3\n",
    "<img src=\"assets/Capture22.PNG\"\n",
    "     alt=\"Markdown Monster icon\"\n",
    "     style=\"float: left; margin-right: 10px;\" />"
   ]
  },
  {
   "cell_type": "markdown",
   "metadata": {},
   "source": [
    "## Modulo 3 - Exploratory Data Analysis (EDA)"
   ]
  },
  {
   "cell_type": "markdown",
   "metadata": {},
   "source": [
    "Preliminary step in data analysis to:\n",
    "\n",
    "- Summarize main characteristics of data\n",
    "- Gain better understanding of the data set\n",
    "- Uncover relationships between variables\n",
    "- Extract important variables"
   ]
  },
  {
   "cell_type": "markdown",
   "metadata": {},
   "source": [
    "### Descriptive statistics"
   ]
  },
  {
   "cell_type": "markdown",
   "metadata": {},
   "source": [
    "#### Describe\n",
    "Using the pandas function describe() show the basic statistics of all the variables: (nan values are excludes)\n",
    "\n",
    "count - mean - std - min - max - cuartiles\n",
    "\n",
    "#### Categorical\n",
    "value_counts() example:\n",
    "\n",
    "drive_wheels_counts = df[\"drive=wheels\"].value_counts().to_frame()\n",
    "\n",
    "#### Box plots\n",
    "Are a exelect way to show numeric data\n",
    "\n",
    "sns.boxplot(x=\"body-style\", y=\"price\", data=df)\n",
    "\n",
    "#### Scatter plot\n",
    "Each observation represented as a point\n",
    "Scatter plot show the relationship between two variables\n",
    "\n",
    "1. Precitor/independent variables on x-axis.\n",
    "2. Target/dependent variables on y-axis\n",
    "\n",
    "y=df[\"price\"]\n",
    "x=df[\"engine-size\"]\n",
    "plt.scatter(x,y)\n",
    "plt.title(\"Scatterplot of engine size vs price\")\n",
    "plt.xlabel(\"Engine size\")\n",
    "plt.ylabel(\"price\")"
   ]
  },
  {
   "cell_type": "markdown",
   "metadata": {},
   "source": [
    "### GroupBy in Python"
   ]
  },
  {
   "cell_type": "markdown",
   "metadata": {},
   "source": [
    "Can be applied on categorical variables.\n",
    "Group data into categories\n",
    "Single or multiple variables\n",
    "Ejemplo, supongamos que estamos interesados en encontrar el precio medio de los vehiculos y observar como difieren entre diferentes tipos de estilos de carroceria y variables de ruedas motrices\n",
    "\n",
    "Seleccionamos las tres columnas de datos que nos interesan:\n",
    "df_test = df[['drive-wheels', 'body-style', 'price']]\n",
    "\n",
    "Agrupamos los datos reducidos segun las ruedas motrices y el estilo de la carroceria:\n",
    "df_grp = fd_test.groupby(['drive-wheels', 'body-style'], as_index=False).mean()"
   ]
  },
  {
   "cell_type": "markdown",
   "metadata": {},
   "source": [
    "#### Pivot() Tabla dinamica, show the data in board\n",
    "\n",
    "df_pivot = df_grp.pivot(index='drive-wheels', columns='body-style')"
   ]
  },
  {
   "cell_type": "markdown",
   "metadata": {},
   "source": [
    "#### Heatmap Mapa de calor\n",
    "\n",
    "plt.pcolor(df_pivot, cmap='RdBu')\n",
    "plt.colorbar()\n",
    "plt.show()"
   ]
  },
  {
   "cell_type": "markdown",
   "metadata": {},
   "source": [
    "### Correlation"
   ]
  },
  {
   "cell_type": "markdown",
   "metadata": {},
   "source": [
    "Es una metrica estadistica que mide hasta que punto diferentes variables son interdependientes.\n",
    "En el tiempo, si una variable cambia, como afecta esto al cambio en la otra variable?\n",
    "\n",
    "Correlation doesn't imply causation.\n",
    "\n",
    "Correlation between two features (engine-size and price)\n",
    "\n",
    "sns.regplot(x=\"engine-size\", y=\"price\", data=df)\n",
    "plt.ylim(0,)"
   ]
  },
  {
   "cell_type": "markdown",
   "metadata": {},
   "source": [
    "#### Pearson correlation"
   ]
  },
  {
   "cell_type": "markdown",
   "metadata": {},
   "source": [
    "Measure the strength of the correlation between two features.\n",
    "\n",
    "- Correlation coefficient\n",
    "- P-value\n",
    "\n",
    "**Correlation coefficient:**\n",
    "\n",
    "- Close to +1: Large Positive relationship\n",
    "- Close to -1: Large Negative relationship\n",
    "- Close to 0: No relationship\n",
    "\n",
    "**P-Value: (certeza de correlacion)**\n",
    "\n",
    "- P-value < 0.001 Strong certainty in the result\n",
    "- P-value < 0.05 Moderate certanty in the result\n",
    "- P-value < 0.1 Weak certanty in the result\n",
    "- P-value > 0.1 No certanty in the result\n",
    "\n",
    "Strong correlation:\n",
    "\n",
    "- Correlation coefficient close to 1 or -1\n",
    "- P value less than 0.001\n",
    "\n",
    "**Example:** Correlacion entre la potencia y el precio de automoviles.\n",
    "\n",
    "pearson_coef, p_value = stats.pearsonr(df['horsepower'], df['price'])\n",
    "\n",
    "Is good make a correlation-Heatmap with all de values"
   ]
  },
  {
   "cell_type": "markdown",
   "metadata": {},
   "source": [
    "#### Categorical values"
   ]
  },
  {
   "cell_type": "markdown",
   "metadata": {},
   "source": [
    "We use the Chi-square Test for association (denotated as X^2)\n",
    "The test is intended to test how likely it is that an observed distribution is due to chance\n",
    "\n",
    "The chi-squere tests a null hypothesis that the variables are independent.\n",
    "\n",
    "The chi-square does not tell you the type of relationship that exists between both variables; but only that a relationship exists\n",
    "\n",
    "Example: Is there an association between fuel-type and aspiration?"
   ]
  },
  {
   "cell_type": "markdown",
   "metadata": {},
   "source": [
    "<img src=\"assets/Capture24.PNG\"\n",
    "     alt=\"Markdown Monster icon\"\n",
    "     style=\"float: left; margin-right: 10px;\" />"
   ]
  },
  {
   "cell_type": "markdown",
   "metadata": {},
   "source": [
    "The first value in the red square is the chi-square test value (29.6), the second values is the p=value which is very close to 0 and a degree of freedom of 1 "
   ]
  },
  {
   "cell_type": "markdown",
   "metadata": {},
   "source": []
  }
 ],
 "metadata": {
  "kernelspec": {
   "display_name": "Python 3.8.10 64-bit",
   "language": "python",
   "name": "python3"
  },
  "language_info": {
   "name": "python",
   "version": "3.8.10"
  },
  "orig_nbformat": 4,
  "vscode": {
   "interpreter": {
    "hash": "916dbcbb3f70747c44a77c7bcd40155683ae19c65e1c03b4aa3499c5328201f1"
   }
  }
 },
 "nbformat": 4,
 "nbformat_minor": 2
}
