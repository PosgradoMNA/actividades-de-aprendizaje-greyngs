{
 "cells": [
  {
   "cell_type": "markdown",
   "metadata": {},
   "source": [
    "<a href=\"https://colab.research.google.com/github/PosgradoMNA/actividades-de-aprendizaje-greyngs/blob/main/2_Data_Analysis_with_Python_course/Module_1-Introduction.ipynb\" target=\"_parent\"><img src=\"https://colab.research.google.com/assets/colab-badge.svg\" alt=\"Open In Colab\"/></a>"
   ]
  },
  {
   "cell_type": "markdown",
   "metadata": {},
   "source": [
    "#### Jorge Steven Reyes - A01794421"
   ]
  },
  {
   "cell_type": "markdown",
   "metadata": {},
   "source": [
    "## Modulo 1 - Introduction"
   ]
  },
  {
   "cell_type": "markdown",
   "metadata": {},
   "source": [
    "### Libraries:"
   ]
  },
  {
   "cell_type": "markdown",
   "metadata": {},
   "source": [
    "#### Scientific Computing:\n",
    "\n",
    "- Pandas (Data structures and tools)\n",
    "- NumPy (Arrays and matrices)\n",
    "- SciPy (Integrals, solving differential equations, optimizations)\n",
    "\n",
    "#### Visualization:\n",
    "\n",
    "- Matplotlib (plot and graphs, most popular)\n",
    "- Seaborn (plots: heat maps, time series, violin plots)\n",
    "\n",
    "#### Algorithmic:\n",
    "\n",
    "- Scikit-learn (Machine Learning: regression, classification,..)\n",
    "- Statsmodels (Explore data, estimate statistical models, and perform statistical tests)"
   ]
  },
  {
   "cell_type": "markdown",
   "metadata": {},
   "source": [
    "### Importing and exporting data\n",
    "\n",
    "Two important properties: Format and file path of dataset\n",
    "Example:"
   ]
  },
  {
   "cell_type": "code",
   "execution_count": null,
   "metadata": {},
   "outputs": [],
   "source": [
    "import pandas as pd\n",
    "\n",
    "URL = \"https://archive.ics.uci.edu/ml/machine-learning-databases/autos/imports-85.data\"\n",
    "\n",
    "df = pd.read_csv(URL, header = None)"
   ]
  },
  {
   "cell_type": "markdown",
   "metadata": {},
   "source": [
    "#### Printing the dataframe in Python"
   ]
  },
  {
   "cell_type": "markdown",
   "metadata": {},
   "source": [
    "##### Printing"
   ]
  },
  {
   "cell_type": "markdown",
   "metadata": {},
   "source": [
    "df.head(n) to show the first n rows of data frame.\n",
    "\n",
    "df.tail(n) to show the bottom n rows of data frame."
   ]
  },
  {
   "cell_type": "markdown",
   "metadata": {},
   "source": [
    "##### Adding headers"
   ]
  },
  {
   "cell_type": "markdown",
   "metadata": {},
   "source": [
    "Replace default header (by df.columns = headers)\n",
    "\n",
    "headers = [\"symboling\", \"normalized-losses\", ...]"
   ]
  },
  {
   "cell_type": "markdown",
   "metadata": {},
   "source": [
    "##### Exporting a pandas dataframe to csv"
   ]
  },
  {
   "cell_type": "markdown",
   "metadata": {},
   "source": [
    "path = \"c:/windows/.../automobile.csv\"\n",
    "\n",
    "df.to_csv(path)"
   ]
  },
  {
   "cell_type": "markdown",
   "metadata": {},
   "source": [
    "### Analyzing Data in Python"
   ]
  },
  {
   "cell_type": "markdown",
   "metadata": {},
   "source": [
    "#### Basic insights from the data"
   ]
  },
  {
   "cell_type": "markdown",
   "metadata": {},
   "source": [
    "- Understand your data before you begin any analysis\n",
    "- Should check:\n",
    "* Data Types\n",
    "* Data distribution\n",
    "- Locate potential issues with the data\n",
    "\n",
    "**Pandas Type**\n",
    "* object\n",
    "* int64\n",
    "* float64\n",
    "* datetime64, timedelta[ns]\n",
    "\n",
    "**Native Python Type**\n",
    "* string\n",
    "* int\n",
    "* float\n",
    "* N/A (but see the DateTime module in Python's standard library)"
   ]
  },
  {
   "cell_type": "markdown",
   "metadata": {},
   "source": [
    "#### Why check data types?\n",
    "\n",
    "- Potential info and type mismatch\n",
    "- compatibility with python methods"
   ]
  },
  {
   "cell_type": "markdown",
   "metadata": {},
   "source": [
    "#### Data Types"
   ]
  },
  {
   "cell_type": "markdown",
   "metadata": {},
   "source": [
    "In pandas, we use df.dtypes to check data types"
   ]
  },
  {
   "cell_type": "markdown",
   "metadata": {},
   "source": [
    "#### Dataframe describe"
   ]
  },
  {
   "cell_type": "markdown",
   "metadata": {},
   "source": [
    "* df.describe() just for numerical values\n",
    "\n",
    "* df[['length', 'compression-ratio']].describe()\n",
    "\n",
    "* df.describe(include=\"all\") all de columns include objects\n",
    "\n",
    "* df.info() show 30 top rows and 30 bottom rows"
   ]
  },
  {
   "cell_type": "markdown",
   "metadata": {},
   "source": [
    "#### What are connection methods?"
   ]
  },
  {
   "cell_type": "markdown",
   "metadata": {},
   "source": [
    "* cursor() return a new cursor object using the conection\n",
    "\n",
    "* commit() is using to confirm any pending transaction to the database.\n",
    "\n",
    "* rollback() cause a rollback to the database to de begin of any pending transaction.\n",
    "\n",
    "* close() is using to close de connection with the database"
   ]
  },
  {
   "cell_type": "code",
   "execution_count": null,
   "metadata": {},
   "outputs": [],
   "source": [
    "from dbmodule import connect\n",
    "\n",
    "#Create connection object\n",
    "connection = connect('databasename','username','pswd')\n",
    "\n",
    "#create a cursor object\n",
    "cursor = connection.cursor()\n",
    "\n",
    "#Run queries\n",
    "cursor.execute('select * from mytable')\n",
    "\n",
    "#Free resources\n",
    "Cursor.close()\n",
    "connection.close()"
   ]
  }
 ],
 "metadata": {
  "kernelspec": {
   "display_name": "Python 3.8.10 64-bit",
   "language": "python",
   "name": "python3"
  },
  "language_info": {
   "name": "python",
   "version": "3.8.10"
  },
  "orig_nbformat": 4,
  "vscode": {
   "interpreter": {
    "hash": "916dbcbb3f70747c44a77c7bcd40155683ae19c65e1c03b4aa3499c5328201f1"
   }
  }
 },
 "nbformat": 4,
 "nbformat_minor": 2
}
